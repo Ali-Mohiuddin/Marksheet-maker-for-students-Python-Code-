{
 "cells": [
  {
   "cell_type": "code",
   "execution_count": null,
   "metadata": {},
   "outputs": [],
   "source": [
    "a = input(\"Your Name:\")\n",
    "b = input(\"Your Father Name:\")\n",
    "c = int(input(\"Your Class:\"))\n",
    "d = (\"Each Paper's Maximum Marks = 100\")\n",
    "print(d)\n",
    "e = int(input(\"Your English Marks:\"))\n",
    "f = int(input(\"Your Urdu Marks:\"))\n",
    "g = int(input(\"Your Islamiyat Marks:\"))\n",
    "h = int(input(\"Your Maths Marks:\"))\n",
    "i = int(input(\"Your Science Marks:\"))\n",
    "j = (\"Total Marks = 500\")\n",
    "print(j)\n",
    "k = (e+f+g+h+i)\n",
    "l = (k)\n",
    "print(\"Obtained Marks = \" ,k)\n",
    "m = (k*100)/500\n",
    "print(\"Your Percentage Is = \",m,\"%\")\n",
    "if l >= 450 or l == 500:\n",
    "    print(\"Your Grade Is A\")\n",
    "elif l >= 400 or l == 450:\n",
    "    print(\"Your Grade Is B\")    \n",
    "elif l >= 300 or l == 400:\n",
    "    print(\"Your Grade Is C\")\n",
    "else:\n",
    "    print(\"You Are Fail!\")"
   ]
  }
 ],
 "metadata": {
  "kernelspec": {
   "display_name": "Python 3",
   "language": "python",
   "name": "python3"
  },
  "language_info": {
   "codemirror_mode": {
    "name": "ipython",
    "version": 3
   },
   "file_extension": ".py",
   "mimetype": "text/x-python",
   "name": "python",
   "nbconvert_exporter": "python",
   "pygments_lexer": "ipython3",
   "version": "3.7.6"
  }
 },
 "nbformat": 4,
 "nbformat_minor": 4
}
